{
 "cells": [
  {
   "cell_type": "code",
   "execution_count": null,
   "id": "8b58ab62",
   "metadata": {},
   "outputs": [],
   "source": [
    "# Verificar GPU disponível\n",
    "!nvidia-smi"
   ]
  }
 ],
 "metadata": {
  "language_info": {
   "name": "python"
  }
 },
 "nbformat": 4,
 "nbformat_minor": 5
}
